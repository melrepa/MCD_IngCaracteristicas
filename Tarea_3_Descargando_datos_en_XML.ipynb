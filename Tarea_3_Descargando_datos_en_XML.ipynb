{
  "nbformat": 4,
  "nbformat_minor": 0,
  "metadata": {
    "colab": {
      "provenance": [],
      "authorship_tag": "ABX9TyMZXUZUI8A95fbxSJwrk5pL",
      "include_colab_link": true
    },
    "kernelspec": {
      "name": "python3",
      "display_name": "Python 3"
    },
    "language_info": {
      "name": "python"
    }
  },
  "cells": [
    {
      "cell_type": "markdown",
      "metadata": {
        "id": "view-in-github",
        "colab_type": "text"
      },
      "source": [
        "<a href=\"https://colab.research.google.com/github/melrepa/MCD_IngCaracteristicas/blob/main/Tarea_3_Descargando_datos_en_XML.ipynb\" target=\"_parent\"><img src=\"https://colab.research.google.com/assets/colab-badge.svg\" alt=\"Open In Colab\"/></a>"
      ]
    },
    {
      "cell_type": "markdown",
      "source": [
        "<center>\n",
        "<p><img src=\"https://mcd.unison.mx/wp-content/themes/awaken/img/logo_mcd.png\" width=\"150\">\n",
        "</p>\n",
        "\n",
        "\n",
        "\n",
        "# Curso *Ingeniería de Características*\n",
        "\n",
        "### Descargando datos XML\n",
        "Melissa Reyes Paz\n",
        "\n",
        "<p>\n",
        "<img src=\"https://identidadbuho.unison.mx/wp-content/uploads/2019/06/letragrama-cmyk-72.jpg\" width=\"150\">\n",
        "</p>\n",
        "\n",
        "\n",
        "<a target=\"_blank\" href=\"https://colab.research.google.com/github/melrepa/MCD_IngCaracteristicas/blob/main/Tarea_3_Descargando_datos_en_XML.ipynb\"><img src=\"https://i.ibb.co/2P3SLwK/colab.png\"  style=\"padding-bottom:5px;\" />Ejecuta en Google Colab</a>\n",
        "\n",
        "</center>"
      ],
      "metadata": {
        "id": "8n5-VHGFEops"
      }
    },
    {
      "cell_type": "markdown",
      "source": [
        "# Importando librerías necesarias para la descarga de XML."
      ],
      "metadata": {
        "id": "Q9LC48m-Jgua"
      }
    },
    {
      "cell_type": "code",
      "source": [
        "import os  # Para manejo de archivos y directorios\n",
        "import urllib.request # Una forma estandard de descargar datos\n",
        "import requests # Otra forma no de las librerías de uso comun\n",
        "import xml.etree.ElementTree as et #Implementa una simple y eficiente API para analizar y crear XML data.\n",
        "import datetime # Fecha de descarga\n",
        "import pandas as pd # Solo para ver el archivo descargado\n",
        "import numpy as np\n",
        "import zipfile # Descompresión de archivos\n",
        "import re"
      ],
      "metadata": {
        "id": "A9RJYzL1EtI7"
      },
      "execution_count": 2,
      "outputs": []
    },
    {
      "cell_type": "markdown",
      "source": [
        "# Archivos xml\n",
        "\n",
        "Los archivos *xml* son una manera de compartir información a través de internet o de guardar información con formatos genéricos que sigue siendo muy utilizada hoy en día. En general lidiar con archivos xml es una pesadilla y se necesita explorarlos con calma y revisarlos bien antes de usarlos. \n",
        "\n",
        "La definición del formato y su uso de pede revisar en [este tutorial de la w3schools](https://www.w3schools.com/xml/default.asp).\n",
        "\n",
        "Wikipedia es un buen ejemplo de un lugar donde la información se guarda y se descarga en forma de archivos xml. Por ejemplo, si queremos descargar datos de la wikipedia [con su herramienta de exportación](https://es.wikipedia.org/wiki/Especial:Exportar) utilizando [las categorias definidas por Wikipedia](https://es.wikipedia.org/wiki/Portal:Portada). Para hacerlo en forma programática es ecesario usar la [API de Mediawiki](https://github.com/mudroljub/wikipedia-api-docs) que veremos más adelante.\n",
        "\n",
        "Por el momento descargemos unos datos de *wikipedia* y hagamos el ejercicio de tratar de entender la estructura del árbol. [-Waissman (2022)](https://github.com/mcd-unison/ing-caract/blob/main/ejemplos/integracion/python/descarga_datos.ipynb)"
      ],
      "metadata": {
        "id": "-kdVDc7yFOJR"
      }
    },
    {
      "cell_type": "code",
      "source": [
        "archivo_url = \"https://github.com/mcd-unison/ing-caract/raw/main/ejemplos/integracion/ejemplos/wikipedia-poetas.xml\"\n",
        "archivo_nombre = \"poetas.xml\"\n",
        "subdir = \"./data/\"\n",
        "\n",
        "if not os.path.exists(subdir + archivo_nombre):\n",
        "    if not os.path.exists(subdir):\n",
        "        os.makedirs(subdir)\n",
        "    urllib.request.urlretrieve(archivo_url, subdir + archivo_nombre)\n",
        "\n",
        "poetas = et.parse(subdir + archivo_nombre)\n",
        "root = poetas.getroot()"
      ],
      "metadata": {
        "id": "HpAOTYhoIxrc"
      },
      "execution_count": 3,
      "outputs": []
    },
    {
      "cell_type": "markdown",
      "source": [
        "Los últimos códigos nos servirán para poder navegar entre los bloques de información del archivo XML.\n",
        "Observando el arbol que se genera, y considerando que nunca había trabajado con un archivo XML, puedo decir qué a primera vista la información parece un poco confusa."
      ],
      "metadata": {
        "id": "_RxB1E1QJGUT"
      }
    },
    {
      "cell_type": "markdown",
      "source": [
        "En primera instancia veo que se encuentra publicado por mediawiki. Después aparecen códigos que me imagino forman parte de la estructura del archivo o de la página como \"Usuario\", \"Discusión\", \"Plantilla\", \"Ayuda\", etc. \n",
        "\n",
        "A continuación aparece el nombre de una persona, una de las autoras, seguido de id, un timestamp y después un texto con la información general de la autora como su fecha y lugar de nacimiento. \n",
        "Todo está unido: enlaces, referencias, notas. Y así es para cada uno de las categorías del documento.\n",
        "\n",
        "En pocas palabras, cada categoría o bloque de información, o atributo del archivo, contiene la información de poetas argentinos: su nombre, biografía, fechas de modificación del artículo, quien lo modificó.\n",
        "\n",
        "Para poder acceder a diferentes bloques de información se tiene la estructura\n",
        "\n",
        "> '{ http://www.mediawiki.org/xml/export-0.10/ }NombreDelAtributo'"
      ],
      "metadata": {
        "id": "L1Rs-PuBL3a5"
      }
    },
    {
      "cell_type": "code",
      "source": [
        "[elem.tag for elem in root.iter()][50:60]"
      ],
      "metadata": {
        "colab": {
          "base_uri": "https://localhost:8080/"
        },
        "id": "hXNY_OnqK1k5",
        "outputId": "8f226b4c-6726-4c05-d2a4-242b0d5a614d"
      },
      "execution_count": 9,
      "outputs": [
        {
          "output_type": "execute_result",
          "data": {
            "text/plain": [
              "['{http://www.mediawiki.org/xml/export-0.10/}id',\n",
              " '{http://www.mediawiki.org/xml/export-0.10/}comment',\n",
              " '{http://www.mediawiki.org/xml/export-0.10/}model',\n",
              " '{http://www.mediawiki.org/xml/export-0.10/}format',\n",
              " '{http://www.mediawiki.org/xml/export-0.10/}text',\n",
              " '{http://www.mediawiki.org/xml/export-0.10/}sha1',\n",
              " '{http://www.mediawiki.org/xml/export-0.10/}page',\n",
              " '{http://www.mediawiki.org/xml/export-0.10/}title',\n",
              " '{http://www.mediawiki.org/xml/export-0.10/}ns',\n",
              " '{http://www.mediawiki.org/xml/export-0.10/}id']"
            ]
          },
          "metadata": {},
          "execution_count": 9
        }
      ]
    },
    {
      "cell_type": "markdown",
      "source": [
        "A continuación, se accede a los bloques de información como el nombre del autor, biografía, fechas de modificación del artículo de wikipedia, el nombre del usuario que editó el artículo y esta información la ponemos en una tabla haciendo uso de pandas. \n"
      ],
      "metadata": {
        "id": "oZlYynvGQ3P8"
      }
    },
    {
      "cell_type": "code",
      "source": [
        "author = []\n",
        "for autor in root.iter('{http://www.mediawiki.org/xml/export-0.10/}title'):\n",
        "    author.append(autor.text)"
      ],
      "metadata": {
        "id": "XYKS3DfkTdZj"
      },
      "execution_count": 12,
      "outputs": []
    },
    {
      "cell_type": "code",
      "source": [
        "fechas_mod = []\n",
        "for revision in root.iter('{http://www.mediawiki.org/xml/export-0.10/}timestamp'):\n",
        "    fechas_mod.append(revision.text)"
      ],
      "metadata": {
        "id": "EtPNWVQ9T7HQ"
      },
      "execution_count": 13,
      "outputs": []
    },
    {
      "cell_type": "code",
      "source": [
        "biogr = []\n",
        "for bio in root.iter('{http://www.mediawiki.org/xml/export-0.10/}text'):\n",
        "    biogr.append(bio.text)"
      ],
      "metadata": {
        "id": "1WtcKMBiUBKb"
      },
      "execution_count": 14,
      "outputs": []
    },
    {
      "cell_type": "code",
      "source": [
        "usuario = []\n",
        "for usname in root.iter('{http://www.mediawiki.org/xml/export-0.10/}username'):\n",
        "    usuario.append(usname.text)"
      ],
      "metadata": {
        "id": "rOgQes0eUJfZ"
      },
      "execution_count": 15,
      "outputs": []
    },
    {
      "cell_type": "code",
      "source": [
        "data = pd.DataFrame(columns = ['Autor','Biografia','Fecha_Modificacion'])\n",
        "for i in range(len(author)):\n",
        "  data = pd.concat([data,\n",
        "                  pd.DataFrame.from_records([{'Autor': author[i], \n",
        "                                              'Biografia': biogr[i], \n",
        "                                              \"Fecha_Modificacion\": fechas_mod[i]}]\n",
        "                                            )], ignore_index=True)"
      ],
      "metadata": {
        "id": "uceqfe7sUZN0"
      },
      "execution_count": 16,
      "outputs": []
    },
    {
      "cell_type": "markdown",
      "source": [
        "También se puede extraer mas información de la parte de la biografía. Como mencioné antes, incluye fecha de nacimiento. El bloque de información de la biografía es una cadena de caracteres y para hacer uso de esta información se necesita utilizar expresiones regulares. \n"
      ],
      "metadata": {
        "id": "jS2VyQ4WU28e"
      }
    },
    {
      "cell_type": "code",
      "source": [
        "year = []\n",
        "for i in range(len(data)):\n",
        "  \n",
        "  try:\n",
        "    year.append(re.search(r\"\\[\\[([1-3][0-9]{3})\\]\\]\", data[\"Biografia\"].iloc[i]).group(1))\n",
        "  except:\n",
        "    year.append(np.nan)"
      ],
      "metadata": {
        "id": "KF9FMLNpVgdl"
      },
      "execution_count": 17,
      "outputs": []
    },
    {
      "cell_type": "code",
      "source": [
        "data[\"Año_Nacimiento\"] = year"
      ],
      "metadata": {
        "id": "W6sa1ygrVtH0"
      },
      "execution_count": 18,
      "outputs": []
    },
    {
      "cell_type": "code",
      "source": [
        "data"
      ],
      "metadata": {
        "colab": {
          "base_uri": "https://localhost:8080/",
          "height": 424
        },
        "id": "RTrMZxuIVweY",
        "outputId": "7c045880-409c-4699-dcbc-22b2a0970ca9"
      },
      "execution_count": 19,
      "outputs": [
        {
          "output_type": "execute_result",
          "data": {
            "text/plain": [
              "                         Autor  \\\n",
              "0    Julia Morilla de Campbell   \n",
              "1                 Luis Negreti   \n",
              "2                   Poldy Bird   \n",
              "3               Ana María Shua   \n",
              "4                 León Benarós   \n",
              "..                         ...   \n",
              "634            Humberto Tejera   \n",
              "635          Mario Molina Cruz   \n",
              "636      Luis Ignacio Helguera   \n",
              "637   Daniel Olivares Viniegra   \n",
              "638     Guadalupe Flores Liera   \n",
              "\n",
              "                                             Biografia    Fecha_Modificacion  \\\n",
              "0    '''Julia Morilla de Campbell''' ([[Rosario (Ar...  2017-10-30T07:46:11Z   \n",
              "1    {{Ficha de escritor\\n|Imagen              = NE...  2016-09-17T17:35:26Z   \n",
              "2    {{Ficha de persona\\n| padres = Enrique Bird Mo...  2018-06-11T04:34:41Z   \n",
              "3    {{Ficha de persona\\n|imagen=\\n|nombre de nacim...  2018-06-13T18:50:17Z   \n",
              "4    {{Ficha de persona\\n|nombre           = León B...  2018-04-29T21:49:56Z   \n",
              "..                                                 ...                   ...   \n",
              "634  {{Ficha de persona\\n| nombre = Humberto Tejera...  2018-07-06T17:07:38Z   \n",
              "635  {{Ficha de escritor\\n|nombre= Mario Molina Cru...  2018-07-23T14:27:14Z   \n",
              "636  {{Ficha de persona\\n| nombre = Luis Ignacio He...  2018-05-11T14:19:35Z   \n",
              "637  {{Promocional|8|julio}}\\n\\n'''Daniel Olivares ...  2018-07-20T21:56:20Z   \n",
              "638  '''Guadalupe Flores Liera''' (Ciudad de México...  2018-07-21T06:52:42Z   \n",
              "\n",
              "    Año_Nacimiento  \n",
              "0             1922  \n",
              "1             1890  \n",
              "2             1941  \n",
              "3             1951  \n",
              "4             1915  \n",
              "..             ...  \n",
              "634            NaN  \n",
              "635           1955  \n",
              "636           1962  \n",
              "637            NaN  \n",
              "638            NaN  \n",
              "\n",
              "[639 rows x 4 columns]"
            ],
            "text/html": [
              "\n",
              "  <div id=\"df-7a2ca1a7-c580-4e28-9422-dd079bc7df0e\">\n",
              "    <div class=\"colab-df-container\">\n",
              "      <div>\n",
              "<style scoped>\n",
              "    .dataframe tbody tr th:only-of-type {\n",
              "        vertical-align: middle;\n",
              "    }\n",
              "\n",
              "    .dataframe tbody tr th {\n",
              "        vertical-align: top;\n",
              "    }\n",
              "\n",
              "    .dataframe thead th {\n",
              "        text-align: right;\n",
              "    }\n",
              "</style>\n",
              "<table border=\"1\" class=\"dataframe\">\n",
              "  <thead>\n",
              "    <tr style=\"text-align: right;\">\n",
              "      <th></th>\n",
              "      <th>Autor</th>\n",
              "      <th>Biografia</th>\n",
              "      <th>Fecha_Modificacion</th>\n",
              "      <th>Año_Nacimiento</th>\n",
              "    </tr>\n",
              "  </thead>\n",
              "  <tbody>\n",
              "    <tr>\n",
              "      <th>0</th>\n",
              "      <td>Julia Morilla de Campbell</td>\n",
              "      <td>'''Julia Morilla de Campbell''' ([[Rosario (Ar...</td>\n",
              "      <td>2017-10-30T07:46:11Z</td>\n",
              "      <td>1922</td>\n",
              "    </tr>\n",
              "    <tr>\n",
              "      <th>1</th>\n",
              "      <td>Luis Negreti</td>\n",
              "      <td>{{Ficha de escritor\\n|Imagen              = NE...</td>\n",
              "      <td>2016-09-17T17:35:26Z</td>\n",
              "      <td>1890</td>\n",
              "    </tr>\n",
              "    <tr>\n",
              "      <th>2</th>\n",
              "      <td>Poldy Bird</td>\n",
              "      <td>{{Ficha de persona\\n| padres = Enrique Bird Mo...</td>\n",
              "      <td>2018-06-11T04:34:41Z</td>\n",
              "      <td>1941</td>\n",
              "    </tr>\n",
              "    <tr>\n",
              "      <th>3</th>\n",
              "      <td>Ana María Shua</td>\n",
              "      <td>{{Ficha de persona\\n|imagen=\\n|nombre de nacim...</td>\n",
              "      <td>2018-06-13T18:50:17Z</td>\n",
              "      <td>1951</td>\n",
              "    </tr>\n",
              "    <tr>\n",
              "      <th>4</th>\n",
              "      <td>León Benarós</td>\n",
              "      <td>{{Ficha de persona\\n|nombre           = León B...</td>\n",
              "      <td>2018-04-29T21:49:56Z</td>\n",
              "      <td>1915</td>\n",
              "    </tr>\n",
              "    <tr>\n",
              "      <th>...</th>\n",
              "      <td>...</td>\n",
              "      <td>...</td>\n",
              "      <td>...</td>\n",
              "      <td>...</td>\n",
              "    </tr>\n",
              "    <tr>\n",
              "      <th>634</th>\n",
              "      <td>Humberto Tejera</td>\n",
              "      <td>{{Ficha de persona\\n| nombre = Humberto Tejera...</td>\n",
              "      <td>2018-07-06T17:07:38Z</td>\n",
              "      <td>NaN</td>\n",
              "    </tr>\n",
              "    <tr>\n",
              "      <th>635</th>\n",
              "      <td>Mario Molina Cruz</td>\n",
              "      <td>{{Ficha de escritor\\n|nombre= Mario Molina Cru...</td>\n",
              "      <td>2018-07-23T14:27:14Z</td>\n",
              "      <td>1955</td>\n",
              "    </tr>\n",
              "    <tr>\n",
              "      <th>636</th>\n",
              "      <td>Luis Ignacio Helguera</td>\n",
              "      <td>{{Ficha de persona\\n| nombre = Luis Ignacio He...</td>\n",
              "      <td>2018-05-11T14:19:35Z</td>\n",
              "      <td>1962</td>\n",
              "    </tr>\n",
              "    <tr>\n",
              "      <th>637</th>\n",
              "      <td>Daniel Olivares Viniegra</td>\n",
              "      <td>{{Promocional|8|julio}}\\n\\n'''Daniel Olivares ...</td>\n",
              "      <td>2018-07-20T21:56:20Z</td>\n",
              "      <td>NaN</td>\n",
              "    </tr>\n",
              "    <tr>\n",
              "      <th>638</th>\n",
              "      <td>Guadalupe Flores Liera</td>\n",
              "      <td>'''Guadalupe Flores Liera''' (Ciudad de México...</td>\n",
              "      <td>2018-07-21T06:52:42Z</td>\n",
              "      <td>NaN</td>\n",
              "    </tr>\n",
              "  </tbody>\n",
              "</table>\n",
              "<p>639 rows × 4 columns</p>\n",
              "</div>\n",
              "      <button class=\"colab-df-convert\" onclick=\"convertToInteractive('df-7a2ca1a7-c580-4e28-9422-dd079bc7df0e')\"\n",
              "              title=\"Convert this dataframe to an interactive table.\"\n",
              "              style=\"display:none;\">\n",
              "        \n",
              "  <svg xmlns=\"http://www.w3.org/2000/svg\" height=\"24px\"viewBox=\"0 0 24 24\"\n",
              "       width=\"24px\">\n",
              "    <path d=\"M0 0h24v24H0V0z\" fill=\"none\"/>\n",
              "    <path d=\"M18.56 5.44l.94 2.06.94-2.06 2.06-.94-2.06-.94-.94-2.06-.94 2.06-2.06.94zm-11 1L8.5 8.5l.94-2.06 2.06-.94-2.06-.94L8.5 2.5l-.94 2.06-2.06.94zm10 10l.94 2.06.94-2.06 2.06-.94-2.06-.94-.94-2.06-.94 2.06-2.06.94z\"/><path d=\"M17.41 7.96l-1.37-1.37c-.4-.4-.92-.59-1.43-.59-.52 0-1.04.2-1.43.59L10.3 9.45l-7.72 7.72c-.78.78-.78 2.05 0 2.83L4 21.41c.39.39.9.59 1.41.59.51 0 1.02-.2 1.41-.59l7.78-7.78 2.81-2.81c.8-.78.8-2.07 0-2.86zM5.41 20L4 18.59l7.72-7.72 1.47 1.35L5.41 20z\"/>\n",
              "  </svg>\n",
              "      </button>\n",
              "      \n",
              "  <style>\n",
              "    .colab-df-container {\n",
              "      display:flex;\n",
              "      flex-wrap:wrap;\n",
              "      gap: 12px;\n",
              "    }\n",
              "\n",
              "    .colab-df-convert {\n",
              "      background-color: #E8F0FE;\n",
              "      border: none;\n",
              "      border-radius: 50%;\n",
              "      cursor: pointer;\n",
              "      display: none;\n",
              "      fill: #1967D2;\n",
              "      height: 32px;\n",
              "      padding: 0 0 0 0;\n",
              "      width: 32px;\n",
              "    }\n",
              "\n",
              "    .colab-df-convert:hover {\n",
              "      background-color: #E2EBFA;\n",
              "      box-shadow: 0px 1px 2px rgba(60, 64, 67, 0.3), 0px 1px 3px 1px rgba(60, 64, 67, 0.15);\n",
              "      fill: #174EA6;\n",
              "    }\n",
              "\n",
              "    [theme=dark] .colab-df-convert {\n",
              "      background-color: #3B4455;\n",
              "      fill: #D2E3FC;\n",
              "    }\n",
              "\n",
              "    [theme=dark] .colab-df-convert:hover {\n",
              "      background-color: #434B5C;\n",
              "      box-shadow: 0px 1px 3px 1px rgba(0, 0, 0, 0.15);\n",
              "      filter: drop-shadow(0px 1px 2px rgba(0, 0, 0, 0.3));\n",
              "      fill: #FFFFFF;\n",
              "    }\n",
              "  </style>\n",
              "\n",
              "      <script>\n",
              "        const buttonEl =\n",
              "          document.querySelector('#df-7a2ca1a7-c580-4e28-9422-dd079bc7df0e button.colab-df-convert');\n",
              "        buttonEl.style.display =\n",
              "          google.colab.kernel.accessAllowed ? 'block' : 'none';\n",
              "\n",
              "        async function convertToInteractive(key) {\n",
              "          const element = document.querySelector('#df-7a2ca1a7-c580-4e28-9422-dd079bc7df0e');\n",
              "          const dataTable =\n",
              "            await google.colab.kernel.invokeFunction('convertToInteractive',\n",
              "                                                     [key], {});\n",
              "          if (!dataTable) return;\n",
              "\n",
              "          const docLinkHtml = 'Like what you see? Visit the ' +\n",
              "            '<a target=\"_blank\" href=https://colab.research.google.com/notebooks/data_table.ipynb>data table notebook</a>'\n",
              "            + ' to learn more about interactive tables.';\n",
              "          element.innerHTML = '';\n",
              "          dataTable['output_type'] = 'display_data';\n",
              "          await google.colab.output.renderOutput(dataTable, element);\n",
              "          const docLink = document.createElement('div');\n",
              "          docLink.innerHTML = docLinkHtml;\n",
              "          element.appendChild(docLink);\n",
              "        }\n",
              "      </script>\n",
              "    </div>\n",
              "  </div>\n",
              "  "
            ]
          },
          "metadata": {},
          "execution_count": 19
        }
      ]
    },
    {
      "cell_type": "markdown",
      "source": [
        "Una vez obtenida la información de una forma mas bonita o entendible a la vista de una persona que nunca había trabajado con XML (como yo) se pueden hacer y responder mas preguntas, por ejmeplo: \n",
        "* ¿Cuántas modificaciones del artículo se hicieron en cierto lapso? \n",
        "* ¿Dichas modificaciones fueron el resultado de algún evento en especial? \n",
        "* ¿Cuántos autores comparten año de nacimiento? \n",
        "* Si hay muchos autores que nacieron en el mismo año o en la misma generación, ¿cuál sería el factor social que impulso a estas personas a convertirse en poetas?\n",
        "En esta última pregunta me refiero a que si de los 639 autores, por ejemplo, 80 nacieron en la década de 1920, ¿comparten una inspiración o una situación en común que los impulsara a ser poetas?\n",
        "\n",
        "Hay muchas preguntas que se pueden realizar y responder incluso con solo tener el año de naciemiento de estos poetas."
      ],
      "metadata": {
        "id": "f7OccFwDV671"
      }
    },
    {
      "cell_type": "markdown",
      "source": [
        "El último paso a realizar es convertir el data frame elaborado como un archivo parquet."
      ],
      "metadata": {
        "id": "agOkCaRBYJMb"
      }
    },
    {
      "cell_type": "code",
      "source": [
        "data.to_parquet('poetas.parquet.gzip',compression='gzip')"
      ],
      "metadata": {
        "id": "UxXqbigCYSSO"
      },
      "execution_count": 20,
      "outputs": []
    }
  ]
}